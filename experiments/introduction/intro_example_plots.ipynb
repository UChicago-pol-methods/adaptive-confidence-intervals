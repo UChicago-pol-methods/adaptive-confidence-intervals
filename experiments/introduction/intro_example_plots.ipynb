{
 "cells": [
  {
   "cell_type": "code",
   "execution_count": 10,
   "metadata": {},
   "outputs": [],
   "source": [
    "import os\n",
    "import numpy as np\n",
    "import pandas as pd\n",
    "import seaborn as sns\n",
    "\n",
    "from glob import glob\n",
    "from scipy.stats import norm\n",
    "from time import time\n",
    "import matplotlib.pyplot as plt"
   ]
  },
  {
   "cell_type": "markdown",
   "metadata": {},
   "source": [
    "Load data"
   ]
  },
  {
   "cell_type": "code",
   "execution_count": 13,
   "metadata": {},
   "outputs": [],
   "source": [
    "data = []\n",
    "for file in glob('results/*.pkl'):\n",
    "    try:\n",
    "        data.append(pd.read_pickle(file))\n",
    "    except:\n",
    "        print(f\"Error reading {file}\")\n",
    "        \n",
    "data = pd.concat(data, ignore_index=True, sort=False)"
   ]
  },
  {
   "cell_type": "code",
   "execution_count": 23,
   "metadata": {},
   "outputs": [
    {
     "data": {
      "text/plain": [
       "(33300, 7)"
      ]
     },
     "execution_count": 23,
     "metadata": {},
     "output_type": "execute_result"
    }
   ],
   "source": [
    "data.shape"
   ]
  },
  {
   "cell_type": "code",
   "execution_count": 16,
   "metadata": {},
   "outputs": [
    {
     "data": {
      "text/html": [
       "<div>\n",
       "<style scoped>\n",
       "    .dataframe tbody tr th:only-of-type {\n",
       "        vertical-align: middle;\n",
       "    }\n",
       "\n",
       "    .dataframe tbody tr th {\n",
       "        vertical-align: top;\n",
       "    }\n",
       "\n",
       "    .dataframe thead th {\n",
       "        text-align: right;\n",
       "    }\n",
       "</style>\n",
       "<table border=\"1\" class=\"dataframe\">\n",
       "  <thead>\n",
       "    <tr style=\"text-align: right;\">\n",
       "      <th></th>\n",
       "      <th>T</th>\n",
       "      <th>avg_estimate</th>\n",
       "      <th>avg_student</th>\n",
       "      <th>ipw_estimate</th>\n",
       "      <th>ipw_student</th>\n",
       "      <th>aw_estimate</th>\n",
       "      <th>aw_student</th>\n",
       "    </tr>\n",
       "  </thead>\n",
       "  <tbody>\n",
       "    <tr>\n",
       "      <th>0</th>\n",
       "      <td>1000000</td>\n",
       "      <td>-0.000616</td>\n",
       "      <td>-0.336799</td>\n",
       "      <td>0.000495</td>\n",
       "      <td>0.202088</td>\n",
       "      <td>-0.000143</td>\n",
       "      <td>-0.073113</td>\n",
       "    </tr>\n",
       "    <tr>\n",
       "      <th>1</th>\n",
       "      <td>1000000</td>\n",
       "      <td>0.001090</td>\n",
       "      <td>0.910359</td>\n",
       "      <td>0.001192</td>\n",
       "      <td>0.955063</td>\n",
       "      <td>0.001140</td>\n",
       "      <td>0.942832</td>\n",
       "    </tr>\n",
       "    <tr>\n",
       "      <th>2</th>\n",
       "      <td>1000000</td>\n",
       "      <td>0.001356</td>\n",
       "      <td>1.133476</td>\n",
       "      <td>0.000917</td>\n",
       "      <td>0.734318</td>\n",
       "      <td>0.001141</td>\n",
       "      <td>0.943430</td>\n",
       "    </tr>\n",
       "    <tr>\n",
       "      <th>3</th>\n",
       "      <td>1000000</td>\n",
       "      <td>0.001260</td>\n",
       "      <td>1.054122</td>\n",
       "      <td>0.001478</td>\n",
       "      <td>1.186885</td>\n",
       "      <td>0.001368</td>\n",
       "      <td>1.133573</td>\n",
       "    </tr>\n",
       "    <tr>\n",
       "      <th>4</th>\n",
       "      <td>1000000</td>\n",
       "      <td>0.001261</td>\n",
       "      <td>1.054567</td>\n",
       "      <td>0.001181</td>\n",
       "      <td>0.946454</td>\n",
       "      <td>0.001222</td>\n",
       "      <td>1.011068</td>\n",
       "    </tr>\n",
       "  </tbody>\n",
       "</table>\n",
       "</div>"
      ],
      "text/plain": [
       "         T  avg_estimate  avg_student  ipw_estimate  ipw_student  aw_estimate  \\\n",
       "0  1000000     -0.000616    -0.336799      0.000495     0.202088    -0.000143   \n",
       "1  1000000      0.001090     0.910359      0.001192     0.955063     0.001140   \n",
       "2  1000000      0.001356     1.133476      0.000917     0.734318     0.001141   \n",
       "3  1000000      0.001260     1.054122      0.001478     1.186885     0.001368   \n",
       "4  1000000      0.001261     1.054567      0.001181     0.946454     0.001222   \n",
       "\n",
       "   aw_student  \n",
       "0   -0.073113  \n",
       "1    0.942832  \n",
       "2    0.943430  \n",
       "3    1.133573  \n",
       "4    1.011068  "
      ]
     },
     "execution_count": 16,
     "metadata": {},
     "output_type": "execute_result"
    }
   ],
   "source": [
    "data.head()"
   ]
  },
  {
   "cell_type": "markdown",
   "metadata": {},
   "source": [
    "Plot config"
   ]
  },
  {
   "cell_type": "code",
   "execution_count": 21,
   "metadata": {},
   "outputs": [],
   "source": [
    "sns.set(style='ticks')\n",
    "sns.set_context('paper', font_scale=1.5)\n",
    "xs = np.linspace(-4, 4, 100)"
   ]
  },
  {
   "cell_type": "markdown",
   "metadata": {},
   "source": [
    "### Plotting studentized statistics"
   ]
  },
  {
   "cell_type": "markdown",
   "metadata": {},
   "source": [
    "Including IPW, sample mean and adaptively-weighted (constant alloc)."
   ]
  },
  {
   "cell_type": "code",
   "execution_count": 33,
   "metadata": {},
   "outputs": [
    {
     "data": {
      "text/plain": [
       "array([-0.0731127 ,  0.94283236,  0.94342965,  1.13357264,  1.01106809,\n",
       "        0.02191784, -0.38741179, -2.00664256, -0.19655912, -0.50707183,\n",
       "       -2.06051366, -1.23790549, -0.88190516, -0.16180856,  0.93651145,\n",
       "       -0.14065545, -0.37502865, -2.15214547, -0.39316233,  0.91635422,\n",
       "        0.3483583 ,  0.99980195, -1.47739766,  0.0803432 , -0.00260288,\n",
       "       -2.05787107,  0.95404761, -1.42859756, -0.08438036, -0.45216874,\n",
       "        1.1572009 , -1.06581256, -0.07878833, -0.00652606, -0.4057948 ,\n",
       "        0.22709684, -1.33509413, -1.35041031, -0.73993948,  0.93618976,\n",
       "        0.55955289, -1.19941673, -0.56850523, -0.20098529, -0.88077936,\n",
       "        0.37469756, -1.27746987, -0.71821824, -1.29087423, -0.17682059,\n",
       "        0.53501206,  0.28090466,  0.03287993, -0.37434009, -0.57646458,\n",
       "       -0.31993547,  1.8858059 , -0.72670436,  0.78213282,  0.21953108,\n",
       "        0.16255041, -1.20539713,  1.58362179,  0.63430946,  0.32886678,\n",
       "        0.81075822,  0.49127496,  0.13198729,  1.13946275,  0.478857  ,\n",
       "        0.92674577, -0.53591982, -0.70751282,  0.47973758,  0.25025558,\n",
       "       -0.66650405, -0.10253267, -0.98460993, -1.26628445, -0.6500617 ,\n",
       "       -0.36369438,  1.3769281 , -1.00336306,  0.29385634,  1.82323849,\n",
       "       -0.39358672, -1.55464252,  0.01596627,  1.18436589, -0.69198963,\n",
       "        0.23636839, -0.12407968, -0.16371659, -0.55500229, -0.31039898,\n",
       "        0.12545348,  2.40451968, -1.69372209,  0.38888217,  0.60662008])"
      ]
     },
     "execution_count": 33,
     "metadata": {},
     "output_type": "execute_result"
    }
   ],
   "source": [
    "data[column].unique()"
   ]
  },
  {
   "cell_type": "code",
   "execution_count": 29,
   "metadata": {},
   "outputs": [
    {
     "data": {
      "image/png": "[encoded data removed]",
      "text/plain": [
       "<Figure size 1584x288 with 3 Axes>"
      ]
     },
     "metadata": {},
     "output_type": "display_data"
    }
   ],
   "source": [
    "columns = ['avg_student', 'ipw_student', 'aw_student']\n",
    "titles = ['Sample mean', 'Inverse propensity-weighted estimator', 'Adaptively-weighted estimator']\n",
    "\n",
    "fig, axs = plt.subplots(1, 3, figsize=(22, 4),  dpi=72, facecolor=\"white\")\n",
    "\n",
    "for ax, column, title in zip(axs, columns, titles):\n",
    "    \n",
    "    y = data[column].values\n",
    "    ax.hist(y, bins=xs, density=True, alpha=.8, facecolor='white', edgecolor='black');\n",
    "    ax.plot(xs, norm(y.mean(), y.std()).pdf(xs), color='blue', linestyle='-')\n",
    "    ax.axvline(np.mean(y), color=\"blue\", linestyle=\"--\")\n",
    "    ax.set_title(title)\n",
    "\n",
    "    # styling\n",
    "    ax.spines['bottom'].set_position(('axes', -0.05))\n",
    "    ax.yaxis.set_ticks_position('left')\n",
    "    ax.spines['left'].set_position(('axes', -0.05))\n",
    "    ax.axhline(0, color='black')\n",
    "    ax.set_xlim(-5, 5)\n",
    "    \n",
    "sns.despine()\n",
    "\n",
    "\n",
    "fig.savefig('../figures/intro_example_revisited.pdf')"
   ]
  },
  {
   "cell_type": "markdown",
   "metadata": {},
   "source": [
    "### Plotting scaled error: $\\sqrt{T} \\cdot (\\widehat{Q}_T - 0)$"
   ]
  },
  {
   "cell_type": "markdown",
   "metadata": {},
   "source": [
    "The first two plots here are what we have in the introduction. "
   ]
  },
  {
   "cell_type": "code",
   "execution_count": 3,
   "metadata": {},
   "outputs": [
    {
     "ename": "NameError",
     "evalue": "name 'sns' is not defined",
     "output_type": "error",
     "traceback": [
      "\u001b[0;31m---------------------------------------------------------------------------\u001b[0m",
      "\u001b[0;31mNameError\u001b[0m                                 Traceback (most recent call last)",
      "\u001b[0;32m<ipython-input-3-b840ccb4bc5c>\u001b[0m in \u001b[0;36m<module>\u001b[0;34m\u001b[0m\n\u001b[0;32m----> 1\u001b[0;31m \u001b[0msns\u001b[0m\u001b[0;34m.\u001b[0m\u001b[0mset\u001b[0m\u001b[0;34m(\u001b[0m\u001b[0mstyle\u001b[0m\u001b[0;34m=\u001b[0m\u001b[0;34m'ticks'\u001b[0m\u001b[0;34m)\u001b[0m\u001b[0;34m\u001b[0m\u001b[0;34m\u001b[0m\u001b[0m\n\u001b[0m\u001b[1;32m      2\u001b[0m \u001b[0msns\u001b[0m\u001b[0;34m.\u001b[0m\u001b[0mset_context\u001b[0m\u001b[0;34m(\u001b[0m\u001b[0;34m'paper'\u001b[0m\u001b[0;34m,\u001b[0m \u001b[0mfont_scale\u001b[0m\u001b[0;34m=\u001b[0m\u001b[0;36m1.5\u001b[0m\u001b[0;34m)\u001b[0m\u001b[0;34m\u001b[0m\u001b[0;34m\u001b[0m\u001b[0m\n\u001b[1;32m      3\u001b[0m \u001b[0;34m\u001b[0m\u001b[0m\n\u001b[1;32m      4\u001b[0m \u001b[0mxs\u001b[0m \u001b[0;34m=\u001b[0m \u001b[0mnp\u001b[0m\u001b[0;34m.\u001b[0m\u001b[0mlinspace\u001b[0m\u001b[0;34m(\u001b[0m\u001b[0;34m-\u001b[0m\u001b[0;36m5\u001b[0m\u001b[0;34m,\u001b[0m \u001b[0;36m5\u001b[0m\u001b[0;34m,\u001b[0m \u001b[0;36m100\u001b[0m\u001b[0;34m)\u001b[0m\u001b[0;34m\u001b[0m\u001b[0;34m\u001b[0m\u001b[0m\n\u001b[1;32m      5\u001b[0m \u001b[0mbins\u001b[0m \u001b[0;34m=\u001b[0m \u001b[0;36m200\u001b[0m\u001b[0;34m\u001b[0m\u001b[0;34m\u001b[0m\u001b[0m\n",
      "\u001b[0;31mNameError\u001b[0m: name 'sns' is not defined"
     ]
    }
   ],
   "source": [
    "sns.set(style='ticks')\n",
    "sns.set_context('paper', font_scale=1.5)\n",
    "\n",
    "xs = np.linspace(-5, 5, 100)\n",
    "bins = 200\n",
    "\n",
    "scaled_errors = [np.sqrt(T) * avg_estimate, np.sqrt(T) * ipw_estimate, np.sqrt(T) * aw_estimate] \n",
    "titles = ['Sample mean', 'Inverse propensity-weighted estimator', 'Adaptively-weighted estimator']\n",
    "\n",
    "fig, axs = plt.subplots(1, 3, figsize=(18, 4),  dpi=72, facecolor=\"white\")\n",
    "\n",
    "for ax, scaled, title in zip(axs, scaled_errors, titles):\n",
    "    \n",
    "    ax.hist(scaled, bins=xs, density=True, alpha=.8, facecolor='white', edgecolor='black');\n",
    "    ax.plot(xs, norm(scaled.mean(), scaled.std()).pdf(xs), color='blue', linestyle='-')\n",
    "    ax.axvline(np.mean(scaled), color=\"blue\", linestyle=\"--\")\n",
    "    ax.set_title(title)\n",
    "\n",
    "    # styling\n",
    "    ax.spines['bottom'].set_position(('axes', -0.05))\n",
    "    ax.yaxis.set_ticks_position('left')\n",
    "    ax.spines['left'].set_position(('axes', -0.05))\n",
    "    ax.axhline(0, color='black')\n",
    "    ax.set_xlim(-5, 5)\n",
    "    \n",
    "sns.despine()\n",
    "\n",
    "\n",
    "fig.savefig('figures/intro_example_scaled.pdf')"
   ]
  },
  {
   "cell_type": "code",
   "execution_count": null,
   "metadata": {},
   "outputs": [],
   "source": []
  }
 ],
 "metadata": {
  "kernelspec": {
   "display_name": "Python 3",
   "language": "python",
   "name": "python3"
  },
  "language_info": {
   "codemirror_mode": {
    "name": "ipython",
    "version": 3
   },
   "file_extension": ".py",
   "mimetype": "text/x-python",
   "name": "python",
   "nbconvert_exporter": "python",
   "pygments_lexer": "ipython3",
   "version": "3.7.6"
  }
 },
 "nbformat": 4,
 "nbformat_minor": 4
}
