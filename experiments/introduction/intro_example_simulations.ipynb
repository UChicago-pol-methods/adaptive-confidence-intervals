{
 "cells": [
  {
   "cell_type": "code",
   "execution_count": 8,
   "metadata": {},
   "outputs": [],
   "source": [
    "import os\n",
    "import numpy as np\n",
    "import pandas as pd\n",
    "import seaborn as sns\n",
    "\n",
    "from scipy.stats import norm\n",
    "from time import time\n",
    "import matplotlib.pyplot as plt\n",
    "\n",
    "from adaptive_CI.saving import *\n",
    "\n",
    "%reload_ext autoreload\n",
    "%autoreload 2"
   ]
  },
  {
   "cell_type": "markdown",
   "metadata": {},
   "source": [
    "# Introduction example"
   ]
  },
  {
   "cell_type": "markdown",
   "metadata": {},
   "source": [
    "The code below simulates the example in the introduction, but also computes the adaptive estimator with constant allocation (LvdL) weights."
   ]
  },
  {
   "cell_type": "code",
   "execution_count": 2,
   "metadata": {},
   "outputs": [],
   "source": [
    "begin_time = time()"
   ]
  },
  {
   "cell_type": "code",
   "execution_count": 3,
   "metadata": {},
   "outputs": [],
   "source": [
    "# Experiment length\n",
    "T = 1_000_000 \n",
    "\n",
    "# Number of replications\n",
    "num_sims = 1000"
   ]
  },
  {
   "cell_type": "code",
   "execution_count": 6,
   "metadata": {},
   "outputs": [
    {
     "name": "stdout",
     "output_type": "stream",
     "text": [
      "Simulation 0\n",
      "Simulation 1\n",
      "Simulation 2\n",
      "Simulation 3\n",
      "Simulation 4\n",
      "Simulation 5\n",
      "Simulation 6\n",
      "Simulation 7\n",
      "Simulation 8\n",
      "Simulation 9\n"
     ]
    }
   ],
   "source": [
    "avg_estimate = np.empty(num_sims, dtype=float)\n",
    "aw_estimate = np.empty(num_sims, dtype=float)\n",
    "ipw_estimate = np.empty(num_sims, dtype=float)\n",
    "\n",
    "avg_stderr = np.empty(num_sims, dtype=float)\n",
    "aw_stderr = np.empty(num_sims, dtype=float)\n",
    "ipw_stderr = np.empty(num_sims, dtype=float)\n",
    "\n",
    "avg_student = np.empty(num_sims, dtype=float)\n",
    "aw_student = np.empty(num_sims, dtype=float)\n",
    "ipw_student = np.empty(num_sims, dtype=float)\n",
    "\n",
    "for s in range(num_sims):\n",
    "    \n",
    "    print(f'Simulation {s}')\n",
    "    \n",
    "    # potential outcomes for first arm\n",
    "    y = np.random.normal(loc=0, scale=1, size=T)\n",
    "    \n",
    "    # first half\n",
    "    e1 = .5\n",
    "    w1 = np.random.binomial(n=1, p=e1, size=T//2) == 0\n",
    "  \n",
    "    # first arm mean at T/2\n",
    "    muhat1 = np.mean(y[:T//2][w1 == 0])\n",
    "\n",
    "    # second arm mean at T/2 \n",
    "    # drawn from is from its sampling distribution N(0, 1/(T/4))\n",
    "    muhat2 = np.random.normal(loc=0, scale=1/np.sqrt(T/4), size=1) \n",
    "  \n",
    "    # select arm of interest more often if its point estimate is larger\n",
    "    e2 = .9 if muhat1 > muhat2 else .1\n",
    "    w2 = np.random.binomial(n=1, p=e2, size=T//2) == 0\n",
    "  \n",
    "    # concatenate first and second halves\n",
    "    w = np.hstack([w1, w2])\n",
    "    e = np.array([e1]*(T//2) + [e2]*(T//2))\n",
    "    \n",
    "    # ---- estimates: sample mean -----\n",
    "    avg_estimate[s] = np.mean(y[w == 0])\n",
    "    avg_stderr[s] = np.std(y[w == 0]) / np.sqrt(np.sum(w == 0))\n",
    "    avg_student[s] = avg_estimate[s] / avg_stderr[s]\n",
    "    \n",
    "    # ---- estimates: ipw ---- \n",
    "    ipw_estimate[s] = np.mean(y * (w == 0) / e)\n",
    "    ipw_stderr[s] = np.std(y * (w == 0) / e) / np.sqrt(T)\n",
    "    ipw_student[s] = ipw_estimate[s] / ipw_stderr[s]\n",
    "    \n",
    "    # ---- estimates: aw (constant-allocation) ----\n",
    "    scores = muhat1 + (w == 0)/e * (y - muhat1)\n",
    "    lambda_alloc = 1 / (T - np.arange(1, T + 1) + 1)  # constant allocation rates\n",
    "    \n",
    "    # evaluation weights\n",
    "    h2e = np.zeros(T)  # h^2/e\n",
    "    h2e_sum = 0\n",
    "    for t in range(T):\n",
    "        h2e[t] = lambda_alloc[t] * (1 - h2e_sum)\n",
    "        h2e_sum += h2e[t]\n",
    "    evaluation_weights = np.sqrt(np.maximum(0., h2e * e))\n",
    "        \n",
    "    # statistics\n",
    "    aw_estimate[s] = np.sum(evaluation_weights * scores, 0)  / np.sum(evaluation_weights, 0)\n",
    "    aw_stderr[s] = np.sqrt(np.sum(evaluation_weights ** 2 * (scores - aw_estimate[s])** 2, 0)) / np.sum(evaluation_weights, 0)\n",
    "    aw_student[s] = aw_estimate[s] / aw_stderr[s]"
   ]
  },
  {
   "cell_type": "code",
   "execution_count": 10,
   "metadata": {},
   "outputs": [
    {
     "name": "stdout",
     "output_type": "stream",
     "text": [
      "Saving /Users/vitorhadad/Documents/adaptive-confidence-intervals/experiments/results/intro_f6a25b4_84262208.pkl\n"
     ]
    }
   ],
   "source": [
    "data = pd.DataFrame({\n",
    "    \"T\":T,\n",
    "    \"avg_estimate\": avg_estimate,\n",
    "    \"avg_student\": avg_student,\n",
    "    \"ipw_estimate\": ipw_estimate,\n",
    "    \"ipw_student\": ipw_student,\n",
    "    \"aw_estimate\": aw_estimate,\n",
    "    \"aw_student\": aw_student,\n",
    "})\n",
    "\n",
    "if on_sherlock():\n",
    "    write_dir = get_sherlock_dir('adaptive-confidence-intervals', 'simulations', create=True)\n",
    "else:\n",
    "    write_dir = os.path.join(os.getcwd(), 'results')\n",
    "filename = compose_filename('intro', 'pkl')\n",
    "write_path = os.path.join(write_dir, filename)\n",
    "print(f\"Saving {write_path}\")\n",
    "data.to_pickle(write_path)"
   ]
  },
  {
   "cell_type": "code",
   "execution_count": null,
   "metadata": {},
   "outputs": [],
   "source": [
    "end_time = time()\n",
    "print(\"Total time: {:1.1f} seconds.\".format(end_time - begin_time))"
   ]
  }
 ],
 "metadata": {
  "kernelspec": {
   "display_name": "Python 3",
   "language": "python",
   "name": "python3"
  },
  "language_info": {
   "codemirror_mode": {
    "name": "ipython",
    "version": 3
   },
   "file_extension": ".py",
   "mimetype": "text/x-python",
   "name": "python",
   "nbconvert_exporter": "python",
   "pygments_lexer": "ipython3",
   "version": "3.7.6"
  }
 },
 "nbformat": 4,
 "nbformat_minor": 4
}
