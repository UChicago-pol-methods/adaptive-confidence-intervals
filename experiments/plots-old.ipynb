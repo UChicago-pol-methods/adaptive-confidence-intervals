{
 "cells": [
  {
   "cell_type": "code",
   "execution_count": 1,
   "metadata": {},
   "outputs": [],
   "source": [
    "from adaptive_CI.saving import *\n",
    "from adaptive_CI.compute import collect\n",
    "\n",
    "import matplotlib.pyplot as plt \n",
    "from matplotlib.lines import Line2D\n",
    "\n",
    "import seaborn as sns\n",
    "import pandas as pd\n",
    "import numpy as np\n",
    "import scipy.stats as stats\n",
    "\n",
    "import copy\n",
    "import  pickle\n",
    "import warnings\n",
    "\n",
    "\n",
    "from scipy.stats import norm\n",
    "from pickle import UnpicklingError\n",
    "from IPython.display import display, HTML\n",
    "from time import time\n",
    "from glob import glob\n",
    "from os.path import join\n",
    "from itertools import compress\n",
    "\n",
    "sns.set_context(\"notebook\", font_scale=1.4)\n",
    "\n",
    "%matplotlib inline\n",
    "%reload_ext autoreload\n",
    "%autoreload 2"
   ]
  },
  {
   "cell_type": "code",
   "execution_count": null,
   "metadata": {},
   "outputs": [],
   "source": []
  },
  {
   "cell_type": "code",
   "execution_count": 2,
   "metadata": {},
   "outputs": [],
   "source": [
    "def plot_evolution(df,\n",
    "                  row_order=['nosignal', 'lowSNR', 'highSNR'],\n",
    "                  col_order=['mse', 'bias', 'CI_width', '90% coverage of t-stat'],\n",
    "                  col_names=['RMSE', 'bias', 'Confidence Interval Radius', '90% coverage'],\n",
    "                   hue_order=['uniform', 'lvdl', 'two_point'], \n",
    "                   labels=['uniform', 'constant allocation rate', 'two-point'],\n",
    "                  palette=None,\n",
    "                  name=None):\n",
    "    \"\"\"\n",
    "    Plot RMSE, bias and 90% coverage of t-statisitcs in cases of no-signal and high-SNR across different weighting schemes.\n",
    "    \"\"\"\n",
    "    if palette is None:\n",
    "        palette = sns.color_palette(\"muted\")[:len(hue_order)]\n",
    "    g = sns.catplot(x=\"T\",\n",
    "                    y=\"value\",\n",
    "                    col=\"statistic\",\n",
    "                    col_order=col_order,\n",
    "                    row=\"dgp\",\n",
    "                    row_order=row_order,\n",
    "                    hue='method',\n",
    "                    hue_order=hue_order,\n",
    "                    palette=palette,\n",
    "                    kind=\"point\",\n",
    "                    sharex=False,\n",
    "                    sharey=False,\n",
    "                    legend=False,\n",
    "                    legend_out=True,\n",
    "                    margin_titles=True,\n",
    "                    data=df)\n",
    "\n",
    "    # Plot ROOT mse\n",
    "    for i, dgp in enumerate(row_order): \n",
    "        g.axes[i, 0].clear()\n",
    "        sns.pointplot(x='T',\n",
    "                      y=\"value\",\n",
    "                      hue='method',\n",
    "                      hue_order=hue_order,\n",
    "                      palette=palette,\n",
    "                      ax=g.axes[i, 0],\n",
    "                      data=df.query(f\"statistic=='mse' & dgp=='{dgp}'\"),\n",
    "                      estimator=lambda x: np.sqrt(np.mean(x)),\n",
    "                      markers=\"\")\n",
    "        g.axes[i, 0].get_legend().remove()\n",
    "    g.axes[0, 0].set_xlabel(\"\")\n",
    "    g.axes[0, 0].set_ylabel(\"\")\n",
    "\n",
    "\n",
    "    # Add row and column names\n",
    "    g.row_names = ['NO SIGNAL', 'LOW-SIGNAL', 'HIGH SNR']\n",
    "    g.col_names = col_names\n",
    "\n",
    "    for ax in g.axes.flat:\n",
    "        plt.setp(ax.texts, text=\"\")\n",
    "    g.set_titles(row_template=\"{row_name}\", col_template=\"{col_name}\")\n",
    "    \n",
    "    for ax in g.axes[:, 1]:\n",
    "        ax.axhline(0, color=\"black\", linestyle='--')\n",
    "        \n",
    "    # CI radius\n",
    "    for ax in g.axes[:, 2]:\n",
    "        ax.set_ylim((0, ax.get_ylim()[1]))\n",
    "        \n",
    "    for ax in g.axes[:, -1]:\n",
    "        ax.axhline(0.90, color=\"black\", linestyle='--')\n",
    "\n",
    "    g.fig.tight_layout()\n",
    "\n",
    "    # Add legend\n",
    "    handles, ls = g._legend_data.values(), g._legend_data.keys()\n",
    "    label_dict = dict(zip(hue_order, labels))\n",
    "    labels = [label_dict[k] for k in ls]\n",
    "    g.fig.legend(labels=labels, frameon=False,\n",
    "                 handles=handles, loc='lower center',\n",
    "                 ncol=len(labels), bbox_to_anchor=(0.5, 0.0))\n",
    "\n",
    "    g.set_xlabels(\"\")\n",
    "    g.set_ylabels(\"\")\n",
    "    g.fig.tight_layout()\n",
    "\n",
    "    g.fig.subplots_adjust(bottom=0.1)\n",
    "\n",
    "#     if name is not None:\n",
    "#         g.fig.savefig(f'figures/{name}.pdf', bbox_inches='tight')\n",
    "#     plt.show()\n",
    "    return g\n"
   ]
  },
  {
   "cell_type": "code",
   "execution_count": 3,
   "metadata": {},
   "outputs": [],
   "source": [
    "def plot_arm_values(df,\n",
    "                   col_order=['mse', 'bias', 'CI_width', '90% coverage of t-stat'],\n",
    "                   row_order=[2, 0],\n",
    "                   hue='method',\n",
    "                   hue_order=['uniform', 'lvdl', 'two_point'], \n",
    "                   labels=['uniform', 'constant allocation rate', 'two-point'],\n",
    "                   noise_func='uniform', \n",
    "                   palette=None,\n",
    "                   name=None):\n",
    "    \"\"\"\n",
    "    Plot converged RMSE and bias of bad arm and good arm across different weighting schemes.\n",
    "    \"\"\"\n",
    "    if palette is None:\n",
    "        palette = sns.color_palette(\"muted\")[:len(hue_order)]\n",
    "\n",
    "    order = ['nosignal', 'lowSNR', f'highSNR']\n",
    "    order_name = ['NO SIGNAL', 'LOW SNR', 'HIGH SNR']\n",
    "    g = sns.catplot(x=\"dgp\",\n",
    "                    y=\"value\",\n",
    "                    order=order,\n",
    "                    hue='method',\n",
    "                    hue_order=hue_order,\n",
    "                    palette=palette,\n",
    "                    col=\"statistic\",\n",
    "                    col_order=col_order,\n",
    "                    row=\"policy\",\n",
    "                    row_order=row_order,\n",
    "                    kind=\"point\",\n",
    "                    sharex=False,\n",
    "                    sharey=False, #'col',\n",
    "                    legend=False,\n",
    "                    legend_out=True,\n",
    "                    margin_titles=True,\n",
    "                    data=df)\n",
    "\n",
    "    # Plot RMSE of bad arm based on MSE\n",
    "    for i, arm in enumerate(row_order):\n",
    "        g.axes[i, 0].clear()\n",
    "        sns.pointplot(x='dgp',\n",
    "                      y=\"value\",\n",
    "                      order=order,\n",
    "                      hue='method',\n",
    "                      hue_order=hue_order,\n",
    "                      palette=palette,\n",
    "                      ax=g.axes[i, 0],\n",
    "                      data=df.query(f\"policy=={arm} & statistic=='mse'\"),\n",
    "                      estimator=lambda x: np.sqrt(np.mean(x)),\n",
    "                      )\n",
    "        g.axes[i, 0].get_legend().remove()\n",
    "        g.axes[i, 0].set_xlabel(\"\")\n",
    "        g.axes[i, 0].set_ylabel(\"\")\n",
    "\n",
    "\n",
    "    # Add row and column names\n",
    "    g.col_names = ['RMSE', 'Bias', 'Confidence Interval Radius', '90% coverage']\n",
    "    g.row_names = ['GOOD ARM', 'BAD ARM']\n",
    "\n",
    "    for ax in g.axes.flat:\n",
    "        plt.setp(ax.texts, text=\"\")\n",
    "    g.set_titles(row_template=\"{row_name}\", col_template=\"{col_name}\")\n",
    "\n",
    "    # Set xticklabels to be [NO SIGNAL, LOW SIGNAL and HIGH SIGNAL]\n",
    "    for ax in g.axes.flat:\n",
    "        ax.set_xticklabels(order_name)\n",
    "        \n",
    "    # Bias\n",
    "    for ax in g.axes[:, 1]:\n",
    "        ax.axhline(0, color=\"black\", linestyle='--')\n",
    "    \n",
    "    # CI radius\n",
    "    for ax in g.axes[:, 2]:\n",
    "        ax.set_ylim((0, ax.get_ylim()[1]))\n",
    "        \n",
    "    # Coverage\n",
    "    for ax in g.axes[:, -1]:\n",
    "        ax.axhline(0.90, color=\"black\", linestyle='--')\n",
    "\n",
    "    # Add legend\n",
    "    handles, ls = g._legend_data.values(), g._legend_data.keys()\n",
    "    label_dict = dict(zip(hue_order, labels))\n",
    "    labels = [label_dict[k] for k in ls]\n",
    "    g.fig.legend(labels=labels, frameon=False,\n",
    "                 handles=handles, loc='lower center', ncol=6, bbox_to_anchor=(0.5, -0.01))\n",
    "\n",
    "    g.set_xlabels(\"\")\n",
    "    g.set_ylabels(\"\")\n",
    "\n",
    "    g.fig.tight_layout()\n",
    "    g.fig.subplots_adjust(bottom=0.1)\n",
    "    if name is not None:\n",
    "        plt.savefig(f'figures/{name}.pdf', bbox_inches='tight')\n",
    "    plt.show()"
   ]
  },
  {
   "cell_type": "code",
   "execution_count": 4,
   "metadata": {},
   "outputs": [],
   "source": [
    "def plot_hist(df,\n",
    "              methods = ['bernstein', 'uniform', 'lvdl', 'two_point'],\n",
    "              col_names=['Sample mean', 'Uniform', 'Constant allocation', 'Two-point allocation'],\n",
    "              name=None):\n",
    "    \"\"\"\n",
    "    Plot histogram of normalized errors: relative error normalized by Monte Carlo standard deviation, and t-statistics of CLT.\n",
    "    \"\"\"\n",
    "    assert df['noise_func'].nunique() == 1\n",
    "    assert df['floor_decay'].nunique() == 1\n",
    "    assert df['initial'].nunique() == 1\n",
    "    \n",
    "    g = sns.FacetGrid(col=\"method\",\n",
    "                      row='dgp',\n",
    "                      row_order=[f'nosignal', f'lowSNR', f'highSNR'],\n",
    "                      hue=\"statistic\",\n",
    "                      hue_order=['t-stat'],\n",
    "                      col_order=methods,\n",
    "                      legend_out=True,\n",
    "                      sharex=False,\n",
    "                      sharey=True,\n",
    "                      margin_titles=True,\n",
    "                      data=df)\n",
    "\n",
    "    \n",
    "    with warnings.catch_warnings():\n",
    "        # Block an annoying but inconsequential warning from seaborn v0.11.\n",
    "        warnings.simplefilter(action='ignore', category=FutureWarning)\n",
    "        g = g.map(sns.distplot, \"value\", hist=False, kde=True)\n",
    "\n",
    "    # Add row and column names\n",
    "    g.row_names = ['NO SIGNAL', 'LOW SNR', 'HIGH SNR']\n",
    "    g.col_names = col_names \n",
    "\n",
    "    for ax in g.axes.flat:\n",
    "        plt.setp(ax.texts, text=\"\")\n",
    "    g.set_titles(row_template=\"{row_name}\", col_template=\"{col_name}\")\n",
    "\n",
    "    # Add histogram of N(0, 1)\n",
    "    xs = np.linspace(-3, 3)\n",
    "    for ax in g.axes.flatten():\n",
    "        ax.plot(xs, norm.pdf(xs), label='N(0,1)', **\n",
    "                {\"color\": \"black\", \"linestyle\": \"--\", \"linewidth\": 2})\n",
    "        ax.set_xticks([-2, 0, 2])\n",
    "        ax.set_xlim([-3, 3])\n",
    "\n",
    "    # Add legend\n",
    "    handles, labels = g._legend_data.values(), g._legend_data.keys()\n",
    "    g.fig.legend(labels=['Studentized statistic', 'N(0,1)'],\n",
    "                 loc='center',  ncol=3, bbox_to_anchor=(0.5, 0.03))\n",
    "    g.set_xlabels(\"\")\n",
    "    g.set_ylabels(\"\")\n",
    "\n",
    "    g.fig.tight_layout()\n",
    "    g.fig.subplots_adjust(bottom=0.1)\n",
    "    if name is not None:\n",
    "        plt.savefig(f'figures/{name}.pdf', bbox_inches='tight')\n",
    "    plt.show()"
   ]
  },
  {
   "cell_type": "code",
   "execution_count": 5,
   "metadata": {},
   "outputs": [],
   "source": [
    "def plot_wdecorr_comparison(df):\n",
    "    \"\"\"\n",
    "    Compare W-decorrelation and two-point allocation rate. Plot RMSE and 90% coverage of t-stat of good arm high SNR, bad arm high SNR and arms no signal.\n",
    "    \"\"\"\n",
    "    hue_order = ['W-decorrelation_15', 'two_point']\n",
    "    palette = sns.color_palette(\"muted\")[:len(hue_order)]\n",
    "    col_order = ['highSNR:0', 'highSNR:2', 'nosignal:0']\n",
    "\n",
    "    df_subset = df.query('method == @hue_order')\n",
    "    df_subset['experiment_policy'] = df_subset['dgp'] + \":\" + df_subset['policy'].astype(str)\n",
    "\n",
    "    g = sns.catplot(x=\"T\",\n",
    "                    y=\"value\",\n",
    "                    hue='method',\n",
    "                    hue_order=hue_order,\n",
    "                    palette=palette,\n",
    "                    col=\"experiment_policy\",\n",
    "                    col_order=col_order,\n",
    "                    row=\"statistic\",\n",
    "                    row_order=['mse', 'CI_width', '90% coverage of t-stat'],\n",
    "                    kind=\"point\",\n",
    "                    sharex=True,\n",
    "                    sharey='row',\n",
    "                    legend=False,\n",
    "                    legend_out=True,\n",
    "                    margin_titles=True,\n",
    "                    data=df_subset)\n",
    "\n",
    "\n",
    "    # plot RMSE of good arm high SNR\n",
    "    for i, col in enumerate(col_order): # good arm, bad arm, bad(any) arm\n",
    "        g.axes[0, i].clear()\n",
    "        sns.pointplot(x='T',\n",
    "                      y=\"value\",\n",
    "                      hue='method',\n",
    "                      hue_order=hue_order,\n",
    "                      palette=palette,\n",
    "                      ax=g.axes[0, i],\n",
    "                      data=df_subset.query(f\"statistic=='mse' & experiment_policy == @col\"),\n",
    "                      estimator=lambda x: np.sqrt(np.mean(x)))\n",
    "        g.axes[0, i].get_legend().remove()\n",
    "        g.axes[0, i].set_xlabel(\"\")\n",
    "        g.axes[0, i].set_ylabel(\"\")\n",
    "\n",
    "\n",
    "    # Add row and column names\n",
    "    g.row_names = ['RMSE', 'Confidence Interval Radius', '90% coverage of t-stat']\n",
    "    g.col_names = ['GOOD ARM: HIGH SIGNAL', 'BAD ARM: HIGH SIGNAL', 'NO SIGNAL']\n",
    "\n",
    "\n",
    "    for ax in g.axes.flat:\n",
    "        plt.setp(ax.texts, text=\"\")\n",
    "\n",
    "    g.set_titles(row_template=\"{row_name}\", col_template=\"{col_name}\")\n",
    "\n",
    "    # rmse\n",
    "    for ax in g.axes[0, :]:\n",
    "        ax.axhline(0., color=\"black\", linestyle='--')\n",
    "    \n",
    "    # ci radius\n",
    "    for ax in g.axes[1, :]:\n",
    "        ax.axhline(0., color=\"black\", linestyle='--')\n",
    "    \n",
    "    # coverage\n",
    "    for ax in g.axes[2, :]:\n",
    "        ax.axhline(.9, color=\"black\", linestyle='--')\n",
    "\n",
    "    # Add legend\n",
    "    handles, labels = g._legend_data.values(), g._legend_data.keys()\n",
    "    g.fig.legend(labels=['W-decorrelation', 'Two-point allocation'],\n",
    "                 handles=handles, loc='lower center', ncol=2, bbox_to_anchor=(0.5, 0.0))\n",
    "\n",
    "    g.set_xlabels(\"Experiment length\")\n",
    "    g.set_ylabels(\"\")\n",
    "\n",
    "    g.fig.tight_layout()\n",
    "    g.fig.subplots_adjust(bottom=0.1)\n",
    "    \n",
    "    return g.fig"
   ]
  },
  {
   "cell_type": "code",
   "execution_count": 6,
   "metadata": {},
   "outputs": [],
   "source": [
    "def plot_lambda(df_lambdas, save=False):\n",
    "    \"\"\"\n",
    "    Plot lambda(T-t) for stablevar-typed weights.\n",
    "    \"\"\"\n",
    "    assert df_lambdas['T'].nunique() == 1\n",
    "    save = False\n",
    "    g = sns.relplot(x=\"time\",\n",
    "                    y=\"value\",\n",
    "                    col=\"dgp\",\n",
    "                    col_order=[f'nosignal', f'lowSNR', f'highSNR'],\n",
    "                    kind=\"line\",\n",
    "                    row='policy',\n",
    "                    row_order=[2, 0],\n",
    "                    facet_kws=dict(\n",
    "                        sharex=False,\n",
    "                        sharey=False),\n",
    "                    legend=False,\n",
    "                    ci=None,\n",
    "                     data=df_lambdas)\n",
    "\n",
    "    g.col_names = ['NO SIGNAL', 'LOW SIGNAL', 'HIGH SIGNAL']\n",
    "    g.row_names = ['GOOD ARM', 'BAD ARM']\n",
    "\n",
    "    Tmax = df_lambdas['T'].max()\n",
    "    for ax in g.axes.flat:\n",
    "        plt.setp(ax.texts, text=\"\")\n",
    "        ax.set_yscale('log')\n",
    "        xticks = ax.get_xticks()\n",
    "        ax.set_xticks([0, xticks[len(xticks)//2], xticks[-1]])\n",
    "        ax.axhline(1.0, color=\"black\", linestyle='--')\n",
    "        ax.set_xticklabels([0, Tmax//2, Tmax])\n",
    "    g.set_titles(row_template=\"{row_name}\", col_template=\"{col_name}\")\n",
    "\n",
    "    g.set_xlabels(\"\")\n",
    "    g.set_ylabels(\"\")\n",
    "\n",
    "    g.fig.tight_layout()\n",
    "    if save:\n",
    "        plt.savefig(f'figures/lambdas.pdf', bbox_inches='tight')\n",
    "        plt.show()"
   ]
  },
  {
   "cell_type": "markdown",
   "metadata": {},
   "source": [
    "----"
   ]
  },
  {
   "cell_type": "markdown",
   "metadata": {},
   "source": [
    "### Load data"
   ]
  },
  {
   "cell_type": "code",
   "execution_count": 7,
   "metadata": {},
   "outputs": [],
   "source": [
    "commit = \"72121e\""
   ]
  },
  {
   "cell_type": "code",
   "execution_count": 8,
   "metadata": {},
   "outputs": [
    {
     "name": "stdout",
     "output_type": "stream",
     "text": [
      "Found 13760 files associated with statistics.\n"
     ]
    }
   ],
   "source": [
    "base_dir = \"results/\"\n",
    "stats_files = glob(f\"{base_dir}/stats*{commit}*.pkl\")\n",
    "print(f\"Found {len(stats_files)} files associated with statistics.\")"
   ]
  },
  {
   "cell_type": "code",
   "execution_count": 9,
   "metadata": {},
   "outputs": [
    {
     "name": "stdout",
     "output_type": "stream",
     "text": [
      "Reading file 0.\n",
      "Loaded 50 files.\n"
     ]
    }
   ],
   "source": [
    "dfs = []\n",
    "for k, file in enumerate(stats_files[:50]):\n",
    "    if k % 200 == 0:\n",
    "        print(f\"Reading file {k}.\")\n",
    "    try:\n",
    "        dfs.append(pd.read_pickle(file))\n",
    "    except Exception as e:\n",
    "        print(f\"Error when reading file {file}.\")\n",
    "        \n",
    "print(f\"Loaded {len(dfs)} files.\")\n",
    "df = pd.concat(dfs)\n",
    "df['value'] = df['value'].astype(float)\n",
    "\n"
   ]
  },
  {
   "cell_type": "code",
   "execution_count": 10,
   "metadata": {},
   "outputs": [
    {
     "name": "stdout",
     "output_type": "stream",
     "text": [
      "Found 0 files associated with lambda values.\n",
      "Loaded 0 files.\n"
     ]
    },
    {
     "ename": "ValueError",
     "evalue": "No objects to concatenate",
     "output_type": "error",
     "traceback": [
      "\u001b[0;31m---------------------------------------------------------------------------\u001b[0m",
      "\u001b[0;31mValueError\u001b[0m                                Traceback (most recent call last)",
      "\u001b[0;32m<ipython-input-10-269684e19a95>\u001b[0m in \u001b[0;36m<module>\u001b[0;34m\u001b[0m\n\u001b[1;32m     12\u001b[0m \u001b[0;34m\u001b[0m\u001b[0m\n\u001b[1;32m     13\u001b[0m \u001b[0mprint\u001b[0m\u001b[0;34m(\u001b[0m\u001b[0;34mf\"Loaded {len(dfs)} files.\"\u001b[0m\u001b[0;34m)\u001b[0m\u001b[0;34m\u001b[0m\u001b[0;34m\u001b[0m\u001b[0m\n\u001b[0;32m---> 14\u001b[0;31m \u001b[0mdf_lambdas\u001b[0m \u001b[0;34m=\u001b[0m \u001b[0mpd\u001b[0m\u001b[0;34m.\u001b[0m\u001b[0mconcat\u001b[0m\u001b[0;34m(\u001b[0m\u001b[0mdfs\u001b[0m\u001b[0;34m)\u001b[0m\u001b[0;34m\u001b[0m\u001b[0;34m\u001b[0m\u001b[0m\n\u001b[0m\u001b[1;32m     15\u001b[0m \u001b[0mdf_lambdas\u001b[0m\u001b[0;34m[\u001b[0m\u001b[0;34m'value'\u001b[0m\u001b[0;34m]\u001b[0m \u001b[0;34m=\u001b[0m \u001b[0mdf_lambdas\u001b[0m\u001b[0;34m[\u001b[0m\u001b[0;34m'value'\u001b[0m\u001b[0;34m]\u001b[0m\u001b[0;34m.\u001b[0m\u001b[0mastype\u001b[0m\u001b[0;34m(\u001b[0m\u001b[0mfloat\u001b[0m\u001b[0;34m)\u001b[0m\u001b[0;34m\u001b[0m\u001b[0;34m\u001b[0m\u001b[0m\n\u001b[1;32m     16\u001b[0m \u001b[0mdf_lambdas\u001b[0m\u001b[0;34m[\u001b[0m\u001b[0;34m'time'\u001b[0m\u001b[0;34m]\u001b[0m \u001b[0;34m=\u001b[0m \u001b[0mdf_lambdas\u001b[0m\u001b[0;34m[\u001b[0m\u001b[0;34m'time'\u001b[0m\u001b[0;34m]\u001b[0m\u001b[0;34m.\u001b[0m\u001b[0mastype\u001b[0m\u001b[0;34m(\u001b[0m\u001b[0mfloat\u001b[0m\u001b[0;34m)\u001b[0m\u001b[0;34m\u001b[0m\u001b[0;34m\u001b[0m\u001b[0m\n",
      "\u001b[0;32m~/miniconda3/lib/python3.7/site-packages/pandas/core/reshape/concat.py\u001b[0m in \u001b[0;36mconcat\u001b[0;34m(objs, axis, join, ignore_index, keys, levels, names, verify_integrity, sort, copy)\u001b[0m\n\u001b[1;32m    282\u001b[0m         \u001b[0mverify_integrity\u001b[0m\u001b[0;34m=\u001b[0m\u001b[0mverify_integrity\u001b[0m\u001b[0;34m,\u001b[0m\u001b[0;34m\u001b[0m\u001b[0;34m\u001b[0m\u001b[0m\n\u001b[1;32m    283\u001b[0m         \u001b[0mcopy\u001b[0m\u001b[0;34m=\u001b[0m\u001b[0mcopy\u001b[0m\u001b[0;34m,\u001b[0m\u001b[0;34m\u001b[0m\u001b[0;34m\u001b[0m\u001b[0m\n\u001b[0;32m--> 284\u001b[0;31m         \u001b[0msort\u001b[0m\u001b[0;34m=\u001b[0m\u001b[0msort\u001b[0m\u001b[0;34m,\u001b[0m\u001b[0;34m\u001b[0m\u001b[0;34m\u001b[0m\u001b[0m\n\u001b[0m\u001b[1;32m    285\u001b[0m     )\n\u001b[1;32m    286\u001b[0m \u001b[0;34m\u001b[0m\u001b[0m\n",
      "\u001b[0;32m~/miniconda3/lib/python3.7/site-packages/pandas/core/reshape/concat.py\u001b[0m in \u001b[0;36m__init__\u001b[0;34m(self, objs, axis, join, keys, levels, names, ignore_index, verify_integrity, copy, sort)\u001b[0m\n\u001b[1;32m    329\u001b[0m \u001b[0;34m\u001b[0m\u001b[0m\n\u001b[1;32m    330\u001b[0m         \u001b[0;32mif\u001b[0m \u001b[0mlen\u001b[0m\u001b[0;34m(\u001b[0m\u001b[0mobjs\u001b[0m\u001b[0;34m)\u001b[0m \u001b[0;34m==\u001b[0m \u001b[0;36m0\u001b[0m\u001b[0;34m:\u001b[0m\u001b[0;34m\u001b[0m\u001b[0;34m\u001b[0m\u001b[0m\n\u001b[0;32m--> 331\u001b[0;31m             \u001b[0;32mraise\u001b[0m \u001b[0mValueError\u001b[0m\u001b[0;34m(\u001b[0m\u001b[0;34m\"No objects to concatenate\"\u001b[0m\u001b[0;34m)\u001b[0m\u001b[0;34m\u001b[0m\u001b[0;34m\u001b[0m\u001b[0m\n\u001b[0m\u001b[1;32m    332\u001b[0m \u001b[0;34m\u001b[0m\u001b[0m\n\u001b[1;32m    333\u001b[0m         \u001b[0;32mif\u001b[0m \u001b[0mkeys\u001b[0m \u001b[0;32mis\u001b[0m \u001b[0;32mNone\u001b[0m\u001b[0;34m:\u001b[0m\u001b[0;34m\u001b[0m\u001b[0;34m\u001b[0m\u001b[0m\n",
      "\u001b[0;31mValueError\u001b[0m: No objects to concatenate"
     ]
    }
   ],
   "source": [
    "lambda_files = glob(f\"results/lambdas*{commit}*.pkl\")\n",
    "print(f\"Found {len(lambda_files)} files associated with lambda values.\")\n",
    "\n",
    "dfs = []\n",
    "for k, file in enumerate(lambda_files[:100]):\n",
    "    if k % 5 == 0:\n",
    "        print(f\"Reading file {k}.\")\n",
    "    try:\n",
    "        dfs.append(pd.read_pickle(file))\n",
    "    except Exception as e:\n",
    "        print(f\"Error when reading file {file}.\")\n",
    "        \n",
    "print(f\"Loaded {len(dfs)} files.\")\n",
    "df_lambdas = pd.concat(dfs)\n",
    "df_lambdas['value'] = df_lambdas['value'].astype(float)\n",
    "df_lambdas['time'] = df_lambdas['time'].astype(float)\n",
    "df_lambdas.shape"
   ]
  },
  {
   "cell_type": "markdown",
   "metadata": {},
   "source": [
    "----"
   ]
  },
  {
   "cell_type": "markdown",
   "metadata": {},
   "source": [
    "# Arm values at large T"
   ]
  },
  {
   "cell_type": "code",
   "execution_count": null,
   "metadata": {},
   "outputs": [],
   "source": [
    "alpha = .7"
   ]
  },
  {
   "cell_type": "markdown",
   "metadata": {},
   "source": [
    "With naive gaussian"
   ]
  },
  {
   "cell_type": "code",
   "execution_count": null,
   "metadata": {},
   "outputs": [],
   "source": [
    "df1 = df[(df['floor_decay'] == alpha) & (df['T'] == 100_000)]"
   ]
  },
  {
   "cell_type": "code",
   "execution_count": null,
   "metadata": {},
   "outputs": [],
   "source": [
    "for alpha in decay_rates:\n",
    "    display(HTML(f\"<h2>Decay rate (alpha) = {alpha}</h2>\"))\n",
    "    plot_arm_values(\n",
    "        df=df1,\n",
    "        hue_order=['uniform', 'lvdl', 'two_point', 'gamma_exponential', 'sample_mean_naive'], \n",
    "        labels=['Uniform', 'Constant allocation rate', 'Two-point allocation rate', 'Sample mean (Gamma-Exponential)', 'Sample mean (naive)'],\n",
    "        name=\"arm_values_with_naive\"\n",
    "    )"
   ]
  },
  {
   "cell_type": "markdown",
   "metadata": {},
   "source": [
    "Without naive gaussian"
   ]
  },
  {
   "cell_type": "code",
   "execution_count": null,
   "metadata": {},
   "outputs": [],
   "source": [
    "for alpha in decay_rates:\n",
    "    display(HTML(f\"<h2>Decay rate (alpha) = {alpha}</h2>\"))\n",
    "    plot_arm_values(\n",
    "        df=df1,\n",
    "        hue_order=['uniform', 'lvdl', 'two_point', 'gamma_exponential', 'sample_mean_naive'], \n",
    "        labels=['Uniform', 'Constant allocation rate', 'Two-point allocation rate', 'Sample mean (Gamma-Exponential)', 'Sample mean (naive)'],\n",
    "        name=\"arm_values\"\n",
    "    )"
   ]
  },
  {
   "cell_type": "markdown",
   "metadata": {},
   "source": [
    "# Contrasts"
   ]
  },
  {
   "cell_type": "markdown",
   "metadata": {},
   "source": [
    "With naive gaussian"
   ]
  },
  {
   "cell_type": "code",
   "execution_count": null,
   "metadata": {},
   "outputs": [],
   "source": [
    "df2 = df.query(f\"policy=='(0,2)' and floor_decay=={alpha}\")"
   ]
  },
  {
   "cell_type": "code",
   "execution_count": null,
   "metadata": {},
   "outputs": [],
   "source": [
    "for alpha in decay_rates:\n",
    "    display(HTML(f\"<h2>Decay rate (alpha) = {alpha}</h2>\"))\n",
    "    plot_contrast(\n",
    "        df=df2, \n",
    "        hue_order=['uniform', 'lvdl', 'two_point', 'gamma_exponential', 'sample_mean_naive'], \n",
    "        labels=['uniform', 'constant allocation rate', 'two-point', 'sample mean (Gamma-Exponential)', 'sample mean (naive Gaussian)'],\n",
    "        name=\"contrasts_with_naive\",\n",
    "    )"
   ]
  },
  {
   "cell_type": "markdown",
   "metadata": {},
   "source": [
    "Without naive gaussian"
   ]
  },
  {
   "cell_type": "code",
   "execution_count": null,
   "metadata": {},
   "outputs": [],
   "source": [
    "for alpha in decay_rates:\n",
    "    display(HTML(f\"<h2>Decay rate (alpha) = {alpha}</h2>\"))\n",
    "    plot_contrast(\n",
    "        df=df2, \n",
    "        hue_order=['uniform', 'lvdl', 'two_point', 'gamma_exponential'], \n",
    "        labels=['uniform', 'constant allocation rate', 'two-point', 'sample mean (Gamma-Exponential)'],\n",
    "        name=\"contrasts\",\n",
    "    )"
   ]
  },
  {
   "cell_type": "code",
   "execution_count": null,
   "metadata": {},
   "outputs": [],
   "source": [
    "plot_arm_values(\n",
    "    df.query(f\"T == 100_000 and floor_decay == {alpha}\"),\n",
    "    hue_order=['uniform',  'lvdl', 'two_point', 'bernstein'], \n",
    "    labels=['Uniform', 'Constant allocation', 'Two-point allocation', 'Sample mean'],\n",
    "    name=\"arm_values_evolution0\")"
   ]
  },
  {
   "cell_type": "code",
   "execution_count": null,
   "metadata": {},
   "outputs": [],
   "source": [
    "plot_arm_values(\n",
    "    df.query(f\"T == 100_000 and floor_decay == {alpha}\"),\n",
    "    hue_order=['uniform',  'lvdl', 'two_point', 'bernstein'], \n",
    "    labels=['Uniform', 'Constant allocation', 'Two-point allocation', 'Sample mean'],\n",
    "    name=\"arm_values\")"
   ]
  },
  {
   "cell_type": "code",
   "execution_count": null,
   "metadata": {},
   "outputs": [],
   "source": [
    "plot_contrast(df.query(f\"policy==0 and floor_decay=={alpha}\"),\n",
    "              hue_order=['uniform',  'lvdl', 'two_point', 'bernstein'], \n",
    "              col_names=['RMSE', 'Bias', 'Confidence Interval Radius', '90% coverage'],\n",
    "              labels=['Uniform', 'Constant allocation', 'Two-point allocation', 'Sample mean'],\n",
    "              name=\"evoluation_arm_values0\")"
   ]
  },
  {
   "cell_type": "code",
   "execution_count": null,
   "metadata": {},
   "outputs": [],
   "source": [
    "plot_contrast(df.query(f\"policy==2 and floor_decay=={alpha}\"),\n",
    "              hue_order=['uniform',  'lvdl', 'two_point', 'bernstein'], \n",
    "              col_names=['RMSE', 'Bias', 'Confidence Interval Radius', '90% coverage'],\n",
    "              labels=['Uniform', 'Constant allocation', 'Two-point allocation', 'Sample mean'],\n",
    "              name=\"evoluation_arm_values2\")"
   ]
  },
  {
   "cell_type": "code",
   "execution_count": null,
   "metadata": {},
   "outputs": [],
   "source": [
    "plot_contrast(df.query(f\"policy=='(0,2)' and floor_decay=={alpha}\"),\n",
    "              hue_order=['uniform',  'lvdl', 'two_point', 'bernstein'], \n",
    "              col_names=['RMSE', 'Bias', 'Confidence Interval Radius', '90% coverage'],\n",
    "              labels=['Uniform', 'Constant allocation', 'Two-point allocation', 'Sample mean'],\n",
    "              name=\"contrast\")"
   ]
  },
  {
   "cell_type": "code",
   "execution_count": null,
   "metadata": {},
   "outputs": [],
   "source": [
    "# plot_lambda(df_lambdas.query(f\"T == 100_000 and floor_decay == {alpha}\"))"
   ]
  },
  {
   "cell_type": "code",
   "execution_count": null,
   "metadata": {},
   "outputs": [],
   "source": [
    "# plot_wdecorr_comparison(df.query(f\"floor_decay == {alpha}\"))"
   ]
  },
  {
   "cell_type": "code",
   "execution_count": null,
   "metadata": {},
   "outputs": [],
   "source": [
    "plot_hist(df.query(\"T == 100_000 and floor_decay == 0.7 and policy == '(0,2)'\"), name=\"histogram\")"
   ]
  },
  {
   "cell_type": "code",
   "execution_count": null,
   "metadata": {},
   "outputs": [],
   "source": [
    "plot_hist(df.query(\"T == 100_000 and floor_decay == 0.7 and policy == 0\"), name=\"histogram0\")"
   ]
  },
  {
   "cell_type": "code",
   "execution_count": null,
   "metadata": {},
   "outputs": [],
   "source": [
    "plot_hist(df.query(\"T == 100_000 and floor_decay == 0.7 and policy == 2\"), name=\"histogram2\")"
   ]
  },
  {
   "cell_type": "markdown",
   "metadata": {},
   "source": [
    "----"
   ]
  },
  {
   "cell_type": "markdown",
   "metadata": {},
   "source": [
    "# Plot evolution"
   ]
  },
  {
   "cell_type": "code",
   "execution_count": null,
   "metadata": {},
   "outputs": [],
   "source": [
    "Ts = [1_000, 5_000, 10_000, 50_000, 100_000]\n",
    "policies = [0, 1, 2, '(0,2)']\n",
    "row_order=['nosignal', 'lowSNR', 'highSNR']\n",
    "col_order=['mse', 'bias', 'CI_width', '90% coverage of t-stat']\n",
    "col_names=['RMSE', 'Bias', 'Confidence Interval Radius', '90% coverage']\n",
    "labels=['Uniform', 'Constant allocation rate', 'Two-point allocation rate', 'Sample mean (normal CI)', 'Sample mean (Howard et al CI)']\n",
    "hue_order=['uniform', 'lvdl', 'two_point',  'sample_mean_naive', 'gamma_exponential']\n",
    "\n",
    "sns_palette = sns.color_palette('colorblind')\n",
    "palette = [sns_palette[0], sns_palette[1], sns_palette[2], sns_palette[3], sns_palette[3]]"
   ]
  },
  {
   "cell_type": "code",
   "execution_count": null,
   "metadata": {},
   "outputs": [],
   "source": [
    "for policy in policies:\n",
    "    \n",
    "    display(HTML(f\"<h2>Policy: {policy}</h2>\"))\n",
    "\n",
    "    data = df.query('policy == @policy')\n",
    "        \n",
    "    g = sns.catplot(x=\"T\",\n",
    "                    y=\"value\",\n",
    "                    col=\"statistic\",\n",
    "                    col_order=col_order,\n",
    "                    row=\"dgp\",\n",
    "                    row_order=row_order,\n",
    "                    hue='method',\n",
    "                    hue_order=hue_order,\n",
    "                    palette=palette,\n",
    "                    kind=\"point\",\n",
    "                    sharex=False,\n",
    "                    sharey=False,\n",
    "                    legend=False,\n",
    "                    legend_out=True,\n",
    "                    margin_titles=True,\n",
    "                    markers=\"\",\n",
    "                    data=data)\n",
    "\n",
    "    # Plot ROOT mse\n",
    "    for i, dgp in enumerate(row_order): \n",
    "        g.axes[i, 0].clear()\n",
    "        sns.pointplot(x='T',\n",
    "                      y=\"value\",\n",
    "                      hue='method',\n",
    "                      hue_order=hue_order,\n",
    "                      palette=palette,\n",
    "                      ax=g.axes[i, 0],\n",
    "                      data=data.query(f\"statistic=='mse' & dgp=='{dgp}'\"),\n",
    "                      estimator=lambda x: np.sqrt(np.mean(x)),\n",
    "                      markers=\"\")\n",
    "        g.axes[i, 0].get_legend().remove()\n",
    "    g.axes[0, 0].set_xlabel(\"\")\n",
    "    g.axes[0, 0].set_ylabel(\"\")\n",
    "\n",
    "    for ax in g.axes.flat:\n",
    "        numbers = [\"{:e}\".format(t, 2).split(\"e\") for t in Ts]\n",
    "        xticklabels = [f\"${int(float(base))}x10^{int(mant)}$\" for base, mant in numbers]\n",
    "        ax.set_xticklabels(xticklabels)\n",
    "        \n",
    "    # Add row and column names\n",
    "    g.row_names = ['NO SIGNAL', 'LOW-SIGNAL', 'HIGH SNR']\n",
    "    g.col_names = col_names\n",
    "\n",
    "    for ax in g.axes.flat:\n",
    "        plt.setp(ax.texts, text=\"\")\n",
    "    g.set_titles(row_template=\"{row_name}\", col_template=\"{col_name}\")\n",
    "    \n",
    "    for ax in g.axes[:, 1]:\n",
    "        ax.axhline(0, color=\"black\", linestyle='--')\n",
    "        \n",
    "    # CI radius\n",
    "    for ax in g.axes[:, 2]:\n",
    "        ax.set_ylim((0, ax.get_ylim()[1]))\n",
    "        \n",
    "    for ax in g.axes[:, -1]:\n",
    "        ax.axhline(0.90, color=\"black\", linestyle='--')\n",
    "\n",
    "    g.fig.tight_layout()\n",
    "\n",
    "    for ax in g.axes.flat:\n",
    "        ax.lines[24].set_linestyle('--')\n",
    "\n",
    "     # Add legend\n",
    "    new_handles = [Line2D([0], [0], color=pal, linewidth=4, linestyle=\"--\" if k == 4 else \"-\") for k, pal in enumerate(palette)]\n",
    "    label_dict = dict(zip(hue_order, labels))\n",
    "    g.fig.legend(labels=labels, frameon=False,\n",
    "                 handles=new_handles, loc='lower center',\n",
    "                 ncol=len(labels), bbox_to_anchor=(0.5, 0.0))\n",
    "\n",
    "    g.set_xlabels(\"\")\n",
    "    g.set_ylabels(\"\")\n",
    "    g.fig.tight_layout()\n",
    "\n",
    "    g.fig.subplots_adjust(bottom=0.1)\n",
    "    \n",
    "    if isinstance(policy, int):\n",
    "        name=f\"evolution_{policy}\"\n",
    "    else:\n",
    "        name=f\"evolution_{policy[1]}-{policy[3]}\"\n",
    "    g.fig.savefig(f'figures/{name}.pdf', bbox_inches='tight')\n",
    "    \n",
    "    plt.show()"
   ]
  },
  {
   "cell_type": "markdown",
   "metadata": {},
   "source": [
    "# Arm values"
   ]
  },
  {
   "cell_type": "code",
   "execution_count": null,
   "metadata": {},
   "outputs": [],
   "source": [
    "col_order=['mse', 'bias', 'CI_width', '90% coverage of t-stat']\n",
    "row_order=[2, 0]\n",
    "hue='method'\n",
    "hue_order=['uniform', 'lvdl', 'two_point',  'sample_mean_naive', 'gamma_exponential']\n",
    "labels=['Uniform', 'Constant allocation rate', 'Two-point allocation rate', 'Sample mean (normal CI)', 'Sample mean (Howard et al CI)']\n",
    "noise_func='uniform'\n",
    "order = ['nosignal', 'lowSNR', f'highSNR']\n",
    "order_name = ['NO SIGNAL', 'LOW SNR', 'HIGH SNR']"
   ]
  },
  {
   "cell_type": "code",
   "execution_count": null,
   "metadata": {},
   "outputs": [],
   "source": [
    "data = df.query(\"T == 100000\")"
   ]
  },
  {
   "cell_type": "code",
   "execution_count": null,
   "metadata": {},
   "outputs": [],
   "source": [
    "g = sns.catplot(x=\"dgp\",\n",
    "                y=\"value\",\n",
    "                order=order,\n",
    "                hue='method',\n",
    "                hue_order=hue_order,\n",
    "                palette=palette,\n",
    "                col=\"statistic\",\n",
    "                col_order=col_order,\n",
    "                row=\"policy\",\n",
    "                row_order=row_order,\n",
    "                kind=\"point\",\n",
    "                sharex=False,\n",
    "                sharey=False, #'col',\n",
    "                legend=False,\n",
    "                legend_out=True,\n",
    "                margin_titles=True,\n",
    "                data=data)\n",
    "\n",
    "# Plot RMSE of bad arm based on MSE\n",
    "for i, arm in enumerate(row_order):\n",
    "    g.axes[i, 0].clear()\n",
    "    sns.pointplot(x='dgp',\n",
    "                  y=\"value\",\n",
    "                  order=order,\n",
    "                  hue='method',\n",
    "                  hue_order=hue_order,\n",
    "                  palette=palette,\n",
    "                  ax=g.axes[i, 0],\n",
    "                  data=data.query(f\"policy=={arm} & statistic=='mse'\"),\n",
    "                  estimator=lambda x: np.sqrt(np.mean(x)),\n",
    "                  )\n",
    "    g.axes[i, 0].get_legend().remove()\n",
    "    g.axes[i, 0].set_xlabel(\"\")\n",
    "    g.axes[i, 0].set_ylabel(\"\")\n",
    "\n",
    "\n",
    "# Add row and column names\n",
    "g.col_names = ['RMSE', 'Bias', 'Confidence Interval Radius', '90% coverage']\n",
    "g.row_names = ['GOOD ARM', 'BAD ARM']\n",
    "\n",
    "for ax in g.axes.flat:\n",
    "    plt.setp(ax.texts, text=\"\")\n",
    "g.set_titles(row_template=\"{row_name}\", col_template=\"{col_name}\")\n",
    "\n",
    "# Set xticklabels to be [NO SIGNAL, LOW SIGNAL and HIGH SIGNAL]\n",
    "for ax in g.axes.flat:\n",
    "    ax.set_xticklabels(order_name)\n",
    "\n",
    "# Bias\n",
    "for ax in g.axes[:, 1]:\n",
    "    ax.axhline(0, color=\"black\", linestyle='--')\n",
    "\n",
    "# CI radius\n",
    "for ax in g.axes[:, 2]:\n",
    "    ax.set_ylim((0, ax.get_ylim()[1]))\n",
    "\n",
    "# Coverage\n",
    "for ax in g.axes[:, -1]:\n",
    "    ax.axhline(0.90, color=\"black\", linestyle='--')\n",
    "\n",
    "g.set_xlabels(\"\")\n",
    "g.set_ylabels(\"\")\n",
    "\n",
    "for ax in g.axes.flatten():\n",
    "    ax.lines[16].set_linestyle('--')\n",
    "\n",
    "    \n",
    "g.fig.tight_layout()\n",
    "\n",
    "g.fig.subplots_adjust(bottom=0.1)\n",
    "\n",
    " # Add legend\n",
    "new_handles = [Line2D([0], [0], color=pal, linewidth=4, linestyle=\"--\" if k == 4 else \"-\") for k, pal in enumerate(palette)]\n",
    "label_dict = dict(zip(hue_order, labels))\n",
    "g.fig.legend(labels=labels, frameon=False,\n",
    "             handles=new_handles, loc='lower center',\n",
    "             ncol=len(labels), bbox_to_anchor=(0.5, 0.0))\n",
    "\n",
    "g.set_xlabels(\"\")\n",
    "g.set_ylabels(\"\")\n",
    "\n",
    "\n",
    "g.fig.savefig(f'figures/arm_values.pdf', bbox_inches='tight')\n"
   ]
  },
  {
   "cell_type": "code",
   "execution_count": null,
   "metadata": {},
   "outputs": [],
   "source": [
    "for ax in g.axes.flat:\n",
    "    print(len(ax.lines))"
   ]
  },
  {
   "cell_type": "code",
   "execution_count": null,
   "metadata": {},
   "outputs": [],
   "source": []
  }
 ],
 "metadata": {
  "kernelspec": {
   "display_name": "Python 3",
   "language": "python",
   "name": "python3"
  },
  "language_info": {
   "codemirror_mode": {
    "name": "ipython",
    "version": 3
   },
   "file_extension": ".py",
   "mimetype": "text/x-python",
   "name": "python",
   "nbconvert_exporter": "python",
   "pygments_lexer": "ipython3",
   "version": "3.7.6"
  }
 },
 "nbformat": 4,
 "nbformat_minor": 4
}
